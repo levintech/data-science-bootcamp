{
  "nbformat": 4,
  "nbformat_minor": 0,
  "metadata": {
    "colab": {
      "name": "Introduction to Unsupervised Learning.ipynb",
      "provenance": [],
      "collapsed_sections": [],
      "toc_visible": true,
      "authorship_tag": "ABX9TyOEbyqew+JgMD4F96vtWra1"
    },
    "kernelspec": {
      "name": "python3",
      "display_name": "Python 3"
    },
    "language_info": {
      "name": "python"
    }
  },
  "cells": [
    {
      "cell_type": "markdown",
      "source": [
        "# Introduction to Unsupervised Learning\n",
        "\n",
        "## Learning Objectives\n",
        "\n",
        "*   Supervised and Unsupervised Learning\n",
        "*   Improtance of Unsupervised Learning\n",
        "*   Why Unsupervised Learning?\n",
        "*   Applications of Unsupervised Learning\n",
        "*   Unsupervised Learning Use Cases"
      ],
      "metadata": {
        "id": "z77p1F6ARgYG"
      }
    },
    {
      "cell_type": "markdown",
      "source": [
        "# Supervised Learning & Unsupervised Learning\n",
        "\n",
        "## Supervised Learning\n",
        "\n",
        "If you have some previous Machine Learning knowledge, you might be working with datasets that have both input variables and target variables (labels for the data). Whether you need to predict the survival rate of a person in Titanic Dataset where Survival Rate was already given or predict the House Price according to house characteristics where the house prices were provided.\n",
        "\n",
        "The algorithms that work on such datasets are known as **Supervised Learning Algorithms**.\n",
        "\n",
        "It is called supervised learning because the process of an algorithm learning from the training dataset can be thought of as a teacher supervising the learning process. We know the correct answers, the algorithm iteratively makes predictions on the training data and is corrected by the teacher. Learning stops when the algorithm achieves an acceptable level of performance.\n",
        "\n",
        "## Unsupervised Learning\n",
        "\n",
        "Unsupervised learning is where you have unlabeled data (or no target variable) in the dataset.\n",
        "\n",
        "The goal of Unsupervised Learning Algorithms is to **find some structure in the dataset.**\n",
        "\n",
        "These are called unsupervised learning algorithms because, unlike supervised learning, there are no correct answers and there is no teacher. Algorithms are left on their own to discover and present the interesting structure in the data.\n",
        "\n",
        "**Unsupervised Learning = Learning without labels**\n",
        "\n",
        "<center><img alt=\"supervised learning vs unsupervised learning\" src='https://github.com/thunderstroke325/data-science-bootcamp/blob/main/DPhi%20-%20Introduction%20to%20Unsupervised%20Learning/assets/figure1.png?raw=true'></center>\n",
        "\n",
        "On the left (a classification problem), we can see the distinction between the data points clearly. They are either blue circles or red crosses. These are the labels of the data. Supervised Learning will be used in this case.\n",
        "\n",
        "On the right, all the data points look alike. Unsupervised Learning will be used in this case. Finding some structure in this data might look like creating 2 groups shown by the red circles."
      ],
      "metadata": {
        "id": "DOBPKI8rRgR2"
      }
    },
    {
      "cell_type": "markdown",
      "source": [
        "# Importance of Unsupervised Learning\n",
        "\n",
        "In the real world, most of the data is available in an **unstructured format**. Hence, it becomes extremely difficult to draw insights from them. Unsupervised Learning helps to draw similarities between the data and separate them into groups having unique labels. In this way, the unstructured data can be converted into a structured format.\n",
        "\n",
        "Due to this cognitive power to draw insights, deduce patterns from the data, and learn from those, unsupervised learning is often **compared to** human intelligence."
      ],
      "metadata": {
        "id": "glV9M6jpRgPX"
      }
    },
    {
      "cell_type": "markdown",
      "source": [
        "# Why Unsupervised Learning?\n",
        "\n",
        "*   Annotating (Labelling) large datasets is very costly and hence we can label only a few examples manually. Example: Speech Recognition.\n",
        "*   There may be cases where we don’t know how many/what classes is the data divided into. Example: Data Mining.\n",
        "*   We may want to use clustering (grouping) to gain some insight into the structure of the data before designing a classifier.\n"
      ],
      "metadata": {
        "id": "3r-sJdETWLUF"
      }
    },
    {
      "cell_type": "markdown",
      "source": [
        "# Applications of Unsupervised Learning\n",
        "\n",
        "## Market Segmentation\n",
        "Market segmentation is the practice of dividing consumers into groups based on shared needs, desires, and preferences. Using these categories, a business can adjust its product lines and marketing techniques to appeal to each group more eﬀectively by addressing their specific needs.\n",
        "\n",
        "*E.g., A vehicle manufacturer that sells a luxury, high-end car brand would likely target an audience that has a higher income.*\n",
        "\n",
        "<center><img alt=\"market segmentation\" src='https://github.com/thunderstroke325/data-science-bootcamp/blob/main/DPhi%20-%20Introduction%20to%20Unsupervised%20Learning/assets/figure2.png?raw=true'></center>\n",
        "\n",
        "## Social Network Analysis (SNA)\n",
        "SNA is the mapping and measuring of relationships between people, groups, organizations, computers, URLs, and other connected entities.\n",
        "\n",
        "*Eg. Social Network Sites like Facebook use SNA to identify and recommend potential friends based on friends-of-friends.*\n",
        "\n",
        "<center><img alt=\"sna\" src='https://github.com/thunderstroke325/data-science-bootcamp/blob/main/DPhi%20-%20Introduction%20to%20Unsupervised%20Learning/assets/figure3.png?raw=true'></center>\n",
        "\n",
        "## Astronomical Data Analysis\n",
        "“**A simple visualization of complicated data makes the science behind it seem obvious.**” Unsupervised learning techniques help in clustering the galaxies based on certain characteristics.\n",
        "\n",
        "<center><img alt=\"astronomical\" src='https://github.com/thunderstroke325/data-science-bootcamp/blob/main/DPhi%20-%20Introduction%20to%20Unsupervised%20Learning/assets/figure4.png?raw=true'></center>"
      ],
      "metadata": {
        "id": "OBlYCO3cWLRm"
      }
    },
    {
      "cell_type": "markdown",
      "source": [
        "# Unsupervised Learning Use Cases\n",
        "\n",
        "Unsupervised learning is broadly used for 2 things in Machine Learning:\n",
        "\n",
        "1.   **Clustering** - deals with finding a structure in a collection of unlabeled data.\n",
        "2.   **Dimensionality Reduction** - techniques that reduce thenumber of input variables in a dataset.\n",
        "\n",
        "\n",
        "<center><img alt=\"use cases\" src='https://github.com/thunderstroke325/data-science-bootcamp/blob/main/DPhi%20-%20Introduction%20to%20Unsupervised%20Learning/assets/figure5.png?raw=true'></center>"
      ],
      "metadata": {
        "id": "4OPHjrnRWLPY"
      }
    }
  ]
}